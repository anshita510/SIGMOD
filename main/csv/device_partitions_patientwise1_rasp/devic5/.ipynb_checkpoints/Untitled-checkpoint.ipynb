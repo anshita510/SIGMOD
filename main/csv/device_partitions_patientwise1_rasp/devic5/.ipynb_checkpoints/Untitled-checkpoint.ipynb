{
 "cells": [
  {
   "cell_type": "code",
   "execution_count": null,
   "id": "4142f8a7-56f5-4085-ba75-3d8c9ddfc269",
   "metadata": {},
   "outputs": [],
   "source": [
    "import pandas as pd\n",
    "\n",
    "# Path to the CSV file\n",
    "device_lookup_path = 'All_Device_Lookup_with_Probabilities.csv'\n",
    "\n",
    "# Load the existing CSV\n",
    "lookup_table = pd.read_csv(device_lookup_path)\n",
    "\n",
    "# Add the 'ip' column if it doesn't exist and set 'localhost' as default\n",
    "if 'ip' not in lookup_table.columns:\n",
    "    lookup_table['ip'] = 'localhost'\n",
    "else:\n",
    "    lookup_table['ip'].fillna('localhost', inplace=True)\n",
    "\n",
    "# Set specific IP addresses for Device5 and Device21\n",
    "lookup_table.loc[lookup_table['device'] == 'Device5', 'ip'] = '172.20.10.5'\n",
    "lookup_table.loc[lookup_table['device'] == 'Device21', 'ip'] = '172.20.10.6'\n",
    "\n",
    "# Save the updated CSV\n",
    "lookup_table.to_csv(device_lookup_path, index=False)\n",
    "\n",
    "print(\"IP addresses updated successfully!\")\n"
   ]
  }
 ],
 "metadata": {
  "kernelspec": {
   "display_name": "Python 3 (ipykernel)",
   "language": "python",
   "name": "python3"
  },
  "language_info": {
   "codemirror_mode": {
    "name": "ipython",
    "version": 3
   },
   "file_extension": ".py",
   "mimetype": "text/x-python",
   "name": "python",
   "nbconvert_exporter": "python",
   "pygments_lexer": "ipython3",
   "version": "3.9.6"
  }
 },
 "nbformat": 4,
 "nbformat_minor": 5
}
